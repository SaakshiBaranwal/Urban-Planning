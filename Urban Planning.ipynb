{
 "cells": [
  {
   "cell_type": "markdown",
   "id": "39947e84-978f-40e0-9a5f-18b6e36fc681",
   "metadata": {},
   "source": [
    "Importing important libraries"
   ]
  },
  {
   "cell_type": "code",
   "execution_count": 2,
   "id": "dd2628b5-ac55-425c-a1ae-e86163fe7264",
   "metadata": {},
   "outputs": [],
   "source": [
    "import numpy as np\n",
    "from PIL import Image\n",
    "import matplotlib.pyplot as plt\n",
    "import pandas as pd\n",
    "import copy\n",
    "from tabulate import tabulate"
   ]
  },
  {
   "cell_type": "markdown",
   "id": "0ca379c1-b72f-4171-bed0-d91077811638",
   "metadata": {},
   "source": [
    "Reading image and creating a corresponding array containg pixel values"
   ]
  },
  {
   "cell_type": "code",
   "execution_count": 3,
   "id": "8f072d44-91f6-4ba6-82d5-9e31b57b3b57",
   "metadata": {},
   "outputs": [],
   "source": [
    "def read_image():\n",
    "    img_path= input(\"Enter the path of the image: \")\n",
    "    img=Image.open(img_path)\n",
    "    gray_image = img.convert('L')\n",
    "    img_array = np.array(gray_image)\n",
    "    plt.imshow(img_array, cmap='gray')\n",
    "    plt.title('Imported Image')\n",
    "    plt.axis('off')\n",
    "    plt.show()\n",
    "    return img_array"
   ]
  },
  {
   "cell_type": "markdown",
   "id": "a7c21fce-9fff-46b7-af76-6f2717f59a81",
   "metadata": {},
   "source": [
    "Creating binary matrix with 1's and 0's based on pixels of given points"
   ]
  },
  {
   "cell_type": "code",
   "execution_count": 4,
   "id": "f4ac17fa-2411-40d2-a6b8-c9cd29237bd3",
   "metadata": {},
   "outputs": [],
   "source": [
    "def create_bin_matrix(img_array):\n",
    "    bin_matrix = (img_array >= 200).astype(int)\n",
    "    return bin_matrix"
   ]
  },
  {
   "cell_type": "markdown",
   "id": "0450e0ab-8ce2-4ada-97e9-7d38448ec7d0",
   "metadata": {},
   "source": [
    "Creating a Data Frame containing columns x and y to store the white points indices"
   ]
  },
  {
   "cell_type": "code",
   "execution_count": 5,
   "id": "3432267a-f24b-49e5-87be-bf84ee01db0b",
   "metadata": {},
   "outputs": [],
   "source": [
    "def create_data_frame():\n",
    "    img_array = read_image()\n",
    "    bin_matrix = create_bin_matrix(img_array)\n",
    "    idx_white_points = np.argwhere(bin_matrix == 1)\n",
    "    df = pd.DataFrame(idx_white_points, columns=['x', 'y'])\n",
    "    return df"
   ]
  },
  {
   "cell_type": "markdown",
   "id": "df9947b3-368c-4249-b8e9-009820bfabf7",
   "metadata": {},
   "source": [
    "Implementing K-Means clustering algorithm "
   ]
  },
  {
   "cell_type": "code",
   "execution_count": 6,
   "id": "4c7f3ac8-845f-45f9-93a3-1d794a711cbb",
   "metadata": {},
   "outputs": [],
   "source": [
    "def k_means(k, df, image_width, image_height):\n",
    "    min_var = float('inf')\n",
    "    final_centeroids = None\n",
    "    final_df = None\n",
    "\n",
    "    for i in range(10):\n",
    "        centeroids = generate_centeroids(k, image_width, image_height)\n",
    "        df = assignment(df, centeroids, color_map)\n",
    "        while True:\n",
    "            prev_closest = df['closest'].copy()\n",
    "            centeroids = update_centeroids(df, centeroids, image_width, image_height)\n",
    "            df = assignment(df, centeroids, color_map)\n",
    "            if prev_closest.equals(df['closest']):\n",
    "                break\n",
    "        total_var = variation(df, centeroids)\n",
    "        if total_var < min_var:\n",
    "            min_var = total_var\n",
    "            final_centeroids = copy.deepcopy(centeroids)\n",
    "            final_df = df.copy()\n",
    "    return final_centeroids, final_df\n"
   ]
  },
  {
   "cell_type": "markdown",
   "id": "cdc7e9c4-2ead-46f2-9187-bc087dab8609",
   "metadata": {},
   "source": [
    "Generating 'k' random Centeroids"
   ]
  },
  {
   "cell_type": "code",
   "execution_count": 7,
   "id": "1f76db06-2460-41d2-a85e-0a4c67842f27",
   "metadata": {},
   "outputs": [],
   "source": [
    "def generate_centeroids(k, img_width, img_ht):\n",
    "    centeroids = {}\n",
    "    for i in range(k):\n",
    "        centeroids[i + 1] = [np.random.randint(0, img_width), np.random.randint(0, img_ht)]\n",
    "    return centeroids\n"
   ]
  },
  {
   "cell_type": "markdown",
   "id": "79499180-51f2-4218-b0de-e93ba043740b",
   "metadata": {},
   "source": [
    "Assigning each white point(city) to a centeroid"
   ]
  },
  {
   "cell_type": "code",
   "execution_count": 8,
   "id": "283e36ad-eba9-40e6-a301-f54a8f5d82d5",
   "metadata": {},
   "outputs": [],
   "source": [
    "def assignment(df, centeroids, color_map):\n",
    "    if df.empty:\n",
    "        print(\"DataFrame is empty.\")\n",
    "        return df\n",
    "        \n",
    "    for i in centeroids.keys():\n",
    "        df[f'distance_from_{i}'] = np.sqrt((df['x'] - centeroids[i][0])**2 + (df['y'] - centeroids[i][1])**2)\n",
    "    centeroid_distance_cols = [f'distance_from_{i}' for i in centeroids.keys()]\n",
    "    df['closest'] = df.loc[:, centeroid_distance_cols].idxmin(axis=1)\n",
    "    df['closest'] = df['closest'].map(lambda x: int(x.lstrip('distance_from_')))\n",
    "    df['color'] = df['closest'].map(lambda x: color_map[x])\n",
    "    return df"
   ]
  },
  {
   "cell_type": "markdown",
   "id": "7f1819d2-7faa-4f49-8d1c-5bcd12078c4a",
   "metadata": {},
   "source": [
    "Calculating total variation "
   ]
  },
  {
   "cell_type": "code",
   "execution_count": 9,
   "id": "67bbd5d1-c685-4d25-93cd-db9c47295636",
   "metadata": {},
   "outputs": [],
   "source": [
    "def variation(df, centeroids):\n",
    "    var = 0\n",
    "    for i in centeroids.keys():\n",
    "        var += np.sum(np.sqrt((df[df['closest'] == i]['x'] - centeroids[i][0])**2 + (df[df['closest'] == i]['y'] - centeroids[i][1])**2))\n",
    "    return var"
   ]
  },
  {
   "cell_type": "markdown",
   "id": "9e99304c-8cef-4d15-b70c-95a83affcdb6",
   "metadata": {},
   "source": [
    "Updating centeroids from previous clusters"
   ]
  },
  {
   "cell_type": "code",
   "execution_count": 10,
   "id": "04d093e8-5d36-4025-ada1-be4631995ac4",
   "metadata": {},
   "outputs": [],
   "source": [
    "def update_centeroids(df, centeroids, image_width, image_height):\n",
    "    for i in centeroids.keys():\n",
    "        points = df[df['closest'] == i]\n",
    "        if not points.empty:\n",
    "            centeroids[i] = [points['x'].mean(), points['y'].mean()]\n",
    "        else:\n",
    "            centeroids[i] = [np.random.randint(0, image_width), np.random.randint(0, image_height)]\n",
    "    return centeroids"
   ]
  },
  {
   "cell_type": "markdown",
   "id": "0ddbf077-67df-449f-bb38-9ad02eb8119e",
   "metadata": {},
   "source": [
    "Get the optimal 'k' (elbow point)"
   ]
  },
  {
   "cell_type": "code",
   "execution_count": 11,
   "id": "fcbcd8e8-b307-4c41-b150-91bc8d4bf401",
   "metadata": {},
   "outputs": [],
   "source": [
    "def get_elbow_point(variance):\n",
    "    dx = np.diff(list(variance.keys()))\n",
    "    dy = np.diff(list(variance.values()))\n",
    "    slope = dy / dx\n",
    "    slope_diff = np.diff(slope)\n",
    "    elbow_idx = np.argmax(slope_diff) + 1\n",
    "    return elbow_idx"
   ]
  },
  {
   "cell_type": "markdown",
   "id": "dcbd44ac-4593-4694-81dc-837490bdf641",
   "metadata": {},
   "source": [
    "Calculating variation for multiple values of 'k'"
   ]
  },
  {
   "cell_type": "code",
   "execution_count": 12,
   "id": "2899694f-eca4-41ad-9a34-d7cc18cb10e5",
   "metadata": {},
   "outputs": [],
   "source": [
    "def calc_variation_for_multiple_k(df, image_width, image_height, color_map):\n",
    "    variance = {}\n",
    "    for k in range(1, 9):\n",
    "        centeroids, df = k_means(k, df, image_width, image_height)\n",
    "        variance[k] = variation(df, centeroids)\n",
    "    return variance"
   ]
  },
  {
   "cell_type": "markdown",
   "id": "3c48805e-4b14-4074-b47d-da5e55e54d18",
   "metadata": {},
   "source": [
    "Plotting the graph for variation for different values of k"
   ]
  },
  {
   "cell_type": "code",
   "execution_count": 13,
   "id": "411530af-d630-4318-bd99-3510fcfa264c",
   "metadata": {},
   "outputs": [],
   "source": [
    "def plot_elbow_graph(variance):\n",
    "    plt.plot(list(variance.keys()), list(variance.values()), marker='o')\n",
    "    plt.title('Elbow Method Curve')\n",
    "    plt.xlabel('Number of Clusters (K)')\n",
    "    plt.ylabel('Total Variation')\n",
    "    plt.grid(True)\n",
    "    plt.show()"
   ]
  },
  {
   "cell_type": "markdown",
   "id": "f10df938-f2f5-47ac-928e-efd20a54530a",
   "metadata": {},
   "source": [
    "Code using above functions for clustering the cities"
   ]
  },
  {
   "cell_type": "code",
   "execution_count": 14,
   "id": "6c546063-fe5b-4a0c-9d4c-9f4deefcda9b",
   "metadata": {},
   "outputs": [
    {
     "name": "stdin",
     "output_type": "stream",
     "text": [
      "Enter the path of the image:  C:\\Users\\DELL\\Downloads\\3.png\n"
     ]
    },
    {
     "data": {
      "image/png": "[encoded data removed]",
      "text/plain": [
       "<Figure size 640x480 with 1 Axes>"
      ]
     },
     "metadata": {},
     "output_type": "display_data"
    },
    {
     "data": {
      "image/png": "[encoded data removed]",
      "text/plain": [
       "<Figure size 640x480 with 1 Axes>"
      ]
     },
     "metadata": {},
     "output_type": "display_data"
    }
   ],
   "source": [
    "color_map = {1: 'red', 2: 'green', 3: 'blue', 4: 'magenta', 5: 'orange', 6:'brown', 7:'cyan', 8:'pink'}\n",
    "\n",
    "image_height = 64\n",
    "image_width = 64\n",
    "\n",
    "df = create_data_frame()\n",
    "variance = calc_variation_for_multiple_k(df, image_width, image_height, color_map)\n",
    "k = get_elbow_point(variance) + 1\n",
    "final_centeroids, final_df = k_means(k, df, image_width, image_height)\n",
    "final_df['rotated_x']=final_df['y']\n",
    "final_df['rotated_y']=image_width - final_df['x']\n",
    "\n",
    "\n",
    "plt.scatter(final_df['rotated_x'], final_df['rotated_y'], color=final_df['color'], alpha=0.5)\n",
    "for i in final_centeroids.keys():\n",
    "    plt.scatter(*final_centeroids[i], color='black', marker='X')\n",
    "    plt.text(final_centeroids[i][0], final_centeroids[i][1], f\"City {i}\", fontsize=12, ha='right')\n",
    "plt.title(\"Final Clusters\")\n",
    "plt.xlim(0, 64)\n",
    "plt.ylim(0, 64)\n",
    "plt.show()\n"
   ]
  },
  {
   "cell_type": "markdown",
   "id": "c9ad4cf2-1f87-4cbe-b166-104ab52cc600",
   "metadata": {},
   "source": [
    "Finding distances between every 2 cities"
   ]
  },
  {
   "cell_type": "code",
   "execution_count": 15,
   "id": "13c961d4-872e-4746-93bd-8e347b056b4d",
   "metadata": {},
   "outputs": [
    {
     "name": "stdout",
     "output_type": "stream",
     "text": [
      "Distances between cities:\n",
      "+----------+----------+------------+\n",
      "| City A   | City B   |   Distance |\n",
      "+==========+==========+============+\n",
      "| City 1   | City 2   |    40.6074 |\n",
      "+----------+----------+------------+\n",
      "| City 1   | City 3   |    56.34   |\n",
      "+----------+----------+------------+\n",
      "| City 1   | City 4   |    39.2613 |\n",
      "+----------+----------+------------+\n",
      "| City 2   | City 3   |    40.1372 |\n",
      "+----------+----------+------------+\n",
      "| City 2   | City 4   |    56.8871 |\n",
      "+----------+----------+------------+\n",
      "| City 3   | City 4   |    40.1238 |\n",
      "+----------+----------+------------+\n"
     ]
    }
   ],
   "source": [
    "distances = []\n",
    "for i in final_centeroids.keys():\n",
    "    for j in final_centeroids.keys():\n",
    "        if i < j:\n",
    "            distance = np.sqrt((final_centeroids[i][0] - final_centeroids[j][0])**2 + (final_centeroids[i][1] - final_centeroids[j][1])**2)\n",
    "            distances.append([f'City {i}', f'City {j}', distance])            \n",
    "\n",
    "print(\"Distances between cities:\")\n",
    "print(tabulate(distances, headers=['City A', 'City B', 'Distance'], tablefmt='grid'))\n"
   ]
  },
  {
   "cell_type": "code",
   "execution_count": null,
   "id": "f32917e4-010a-42e1-936a-d0b2cdcb1258",
   "metadata": {},
   "outputs": [],
   "source": []
  }
 ],
 "metadata": {
  "kernelspec": {
   "display_name": "Python 3 (ipykernel)",
   "language": "python",
   "name": "python3"
  },
  "language_info": {
   "codemirror_mode": {
    "name": "ipython",
    "version": 3
   },
   "file_extension": ".py",
   "mimetype": "text/x-python",
   "name": "python",
   "nbconvert_exporter": "python",
   "pygments_lexer": "ipython3",
   "version": "3.12.3"
  }
 },
 "nbformat": 4,
 "nbformat_minor": 5
}
